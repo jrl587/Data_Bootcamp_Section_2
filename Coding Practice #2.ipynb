{
 "cells": [
  {
   "cell_type": "markdown",
   "metadata": {},
   "source": [
    "1. The code returns an error because you cannot concatenate a string to a list."
   ]
  },
  {
   "cell_type": "markdown",
   "metadata": {},
   "source": [
    "2. The type() function tells us the type, and length() tells us how many elements are contained."
   ]
  },
  {
   "cell_type": "markdown",
   "metadata": {},
   "source": [
    "3. integer\n",
    "   string\n",
    "   float\n",
    "   string\n",
    "   boolean\n",
    "   boolean\n",
    "   list\n",
    "   tuple\n",
    "   dictionary"
   ]
  },
  {
   "cell_type": "markdown",
   "metadata": {},
   "source": [
    "4. true\n",
    "   true\n",
    "   false\n",
    "   true\n",
    "   true\n",
    "   true\n",
    "   false\n",
    "   true \n",
    "   true"
   ]
  },
  {
   "cell_type": "markdown",
   "metadata": {},
   "source": [
    "5. The code returns an error because there is no colon after the if statement"
   ]
  },
  {
   "cell_type": "markdown",
   "metadata": {},
   "source": [
    "6. The code returns 'on the one hand' because true will always be the default value unless a boolean is given that returns    false. If True is changed to False, the code will return 'but on the other hand' because the default value is still true, thus the code returns the else condition because the if condition is not fulfilled. Inserting 'not' after 'if' reverses the conditional statements, not True is the same as False and will return the else statement, not False is True and will return the if statement.  "
   ]
  },
  {
   "cell_type": "markdown",
   "metadata": {},
   "source": [
    "7. The code will return 'Chase'."
   ]
  },
  {
   "cell_type": "code",
   "execution_count": null,
   "metadata": {},
   "outputs": [],
   "source": [
    "if len(x) > len(y):\n",
    "    print('x has more')\n",
    "else:\n",
    "    print('y has at least as many')"
   ]
  },
  {
   "cell_type": "markdown",
   "metadata": {},
   "source": [
    "9. Slicing extracts a certain piece of the string or list "
   ]
  },
  {
   "cell_type": "code",
   "execution_count": null,
   "metadata": {},
   "outputs": [],
   "source": [
    "x[:1]\n",
    "x[4:]\n",
    "x[:4]"
   ]
  },
  {
   "cell_type": "code",
   "execution_count": null,
   "metadata": {},
   "outputs": [],
   "source": [
    "This = sentence[0:4]\n",
    "is = sentence[5:7]\n",
    "a = sentence[8:9]\n",
    "sentence = sentence[10:18]\n",
    "please = sentence[20:26]\n",
    "slice = sentence[27:32]\n",
    "it = sentence[33:36]"
   ]
  },
  {
   "cell_type": "code",
   "execution_count": null,
   "metadata": {},
   "outputs": [],
   "source": [
    "first_item = x[:1]\n",
    "last_item = x[-1:]\n",
    "b_to_3_inclusive = x[3:7]"
   ]
  },
  {
   "cell_type": "code",
   "execution_count": 3,
   "metadata": {},
   "outputs": [
    {
     "name": "stdout",
     "output_type": "stream",
     "text": [
      "1\n",
      "2\n",
      "a\n",
      "b\n",
      "fast\n",
      "slow\n",
      "3\n",
      "Raghu\n",
      "Liuren\n",
      "10\n"
     ]
    }
   ],
   "source": [
    "x = [1,2,\"a\",'b',\"fast\",'slow',3,\"Raghu\",'Liuren',10]\n",
    "for i in x:\n",
    "    print(i)"
   ]
  },
  {
   "cell_type": "code",
   "execution_count": 4,
   "metadata": {},
   "outputs": [
    {
     "name": "stdout",
     "output_type": "stream",
     "text": [
      "a\n",
      "b\n",
      "fast\n",
      "slow\n",
      "Raghu\n",
      "Liuren\n"
     ]
    }
   ],
   "source": [
    "x = [1,2,\"a\",'b',\"fast\",'slow',3,\"Raghu\",'Liuren',10]\n",
    "for i in x:\n",
    "    if type(i) == str:\n",
    "        print(i)"
   ]
  },
  {
   "cell_type": "markdown",
   "metadata": {},
   "source": [
    "15. Range(3,12,2) prints the numbers from 3 to 12 starting from 3 in increments of 2. The function returns [3,5,7,9,11], as you can see, the code starts with 3 and adds 2 until 12 is reached (however 12 itself is not printed because increments of 2 skip over 12)."
   ]
  },
  {
   "cell_type": "code",
   "execution_count": 10,
   "metadata": {},
   "outputs": [
    {
     "name": "stdout",
     "output_type": "stream",
     "text": [
      "[0, 1, 2, 3, 4, 5, 6, 7, 8, 9, 10, 11, 12, 13, 14, 15, 16, 17, 18, 19, 20, 21, 22, 23, 24, 25, 26, 27, 28, 29, 30]\n"
     ]
    },
    {
     "data": {
      "text/plain": [
       "165"
      ]
     },
     "execution_count": 10,
     "metadata": {},
     "output_type": "execute_result"
    }
   ],
   "source": [
    "x = list(range(0,31))\n",
    "print(x)\n",
    "sum = 0\n",
    "for i in x:\n",
    "    if i%3 == 0:\n",
    "        sum += i\n",
    "sum     "
   ]
  },
  {
   "cell_type": "code",
   "execution_count": 12,
   "metadata": {},
   "outputs": [],
   "source": [
    "def pocket_change(p,n,d,q):\n",
    "    q_cent = q * 25\n",
    "    d_cent = d * 10\n",
    "    n_cent = n * 5\n",
    "    total = q_cent + d_cent + n_cent + p\n",
    "    dollar_value = total/100.0\n",
    "    print('$',dollar_value)"
   ]
  },
  {
   "cell_type": "code",
   "execution_count": 13,
   "metadata": {},
   "outputs": [
    {
     "name": "stdout",
     "output_type": "stream",
     "text": [
      "$ 1.41\n"
     ]
    }
   ],
   "source": [
    "pocket_change(1,2,3,4)"
   ]
  },
  {
   "cell_type": "code",
   "execution_count": 15,
   "metadata": {},
   "outputs": [],
   "source": [
    "def not_six(list):\n",
    "    a = list\n",
    "    x = []\n",
    "    for i in a:\n",
    "        string_ver = str(i)\n",
    "        if string_ver[:1] != '6':\n",
    "            integer_ver = int(string_ver)\n",
    "            x.append(integer_ver)\n",
    "    print(x)"
   ]
  },
  {
   "cell_type": "code",
   "execution_count": 16,
   "metadata": {},
   "outputs": [
    {
     "name": "stdout",
     "output_type": "stream",
     "text": [
      "[1234, 4321, 9876]\n"
     ]
    }
   ],
   "source": [
    "not_six([1234,6783,6,4321,9876])"
   ]
  },
  {
   "cell_type": "markdown",
   "metadata": {},
   "source": [
    "19. This is an efficient method of coding coding problem 18. new_list contains a list with a for loop that goes through old_list and converts each integer into a string, then checks if the 1st value of the string is not equal to 6. If true, the string is added to new_list."
   ]
  },
  {
   "cell_type": "markdown",
   "metadata": {},
   "source": [
    "20. a) z is a dictionary with a length of 3\n",
    "    b) 1,2,3 are all keys and 'one','two','three' are all values\n",
    "    c) z[2]\n",
    "    d) z.keys() pulls up all keys in the dictionary, while z.values() pulls up all values in the dictionary\n",
    "    e) list(z.keys()) puts all the keys in dictionary z into a list\n",
    "    f) list(z.values()) puts all the values in dictionary z into a list\n",
    "    g) list(z) puts all the keys in dictionary z into a list"
   ]
  },
  {
   "cell_type": "markdown",
   "metadata": {},
   "source": [
    "21: This assignment took me around 1 hour 30 minutes."
   ]
  }
 ],
 "metadata": {
  "kernelspec": {
   "display_name": "Python 3",
   "language": "python",
   "name": "python3"
  },
  "language_info": {
   "codemirror_mode": {
    "name": "ipython",
    "version": 3
   },
   "file_extension": ".py",
   "mimetype": "text/x-python",
   "name": "python",
   "nbconvert_exporter": "python",
   "pygments_lexer": "ipython3",
   "version": "3.6.5"
  }
 },
 "nbformat": 4,
 "nbformat_minor": 2
}
