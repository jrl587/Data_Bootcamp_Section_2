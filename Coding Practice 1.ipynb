{
 "cells": [
  {
   "cell_type": "markdown",
   "metadata": {},
   "source": [
    "1. 2+5=7 , this is simple addition that is computed normally through arithmetic\n",
    "   2 + 5=7 , the spaces make no diffence but allow for easier reading\n",
    "   2*5=10 , the * stands for multiplication and the expression is computed normally through arithmetic\n",
    "   2/5=0.4 , python 3 returns a float for division every time, thus the expression is computed normally through arithmetic\n",
    "   2**5=32 , ** acts as exponential notation, so this expression means 2 to the power of 5"
   ]
  },
  {
   "cell_type": "markdown",
   "metadata": {},
   "source": [
    "2. The value of x is 10. The first statement stores x as 7, then the second statement stores a new value into x. However, since x is in the equation, the computer draws up the current value of x, which is 7. It then goes without saying that 7 + 3 = 10."
   ]
  },
  {
   "cell_type": "markdown",
   "metadata": {},
   "source": [
    "3. The first statement stores x as 3. The second statement stores y as the current value of x, which is 3. The last statement stores x as a new value, 10. Thus at the end x = 10 and y = 3."
   ]
  },
  {
   "cell_type": "markdown",
   "metadata": {},
   "source": [
    "4. The code runs without error. It produces: 1.5 abcabc"
   ]
  },
  {
   "cell_type": "markdown",
   "metadata": {},
   "source": [
    "5. The code returns an error because line 4 attempts to add a float (1.5) to a string ('abc'). In order for the code to work, you must convert to the same data type (convert 1.5 to a string)"
   ]
  },
  {
   "cell_type": "markdown",
   "metadata": {},
   "source": [
    "6. The code runs without error. It produces: 3 | 24 | 8.0"
   ]
  },
  {
   "cell_type": "markdown",
   "metadata": {},
   "source": [
    "7. The code returns an error because line 3 attempts to divide a string by an integer, which is not possible."
   ]
  },
  {
   "cell_type": "markdown",
   "metadata": {},
   "source": [
    "8. The code runs without error and produces nothing (\"I am a #string\" is stored in x but there is no statement to return x)"
   ]
  },
  {
   "cell_type": "markdown",
   "metadata": {},
   "source": [
    "9. The code runs without error. It produces: [1,2,3,42,43]"
   ]
  },
  {
   "cell_type": "markdown",
   "metadata": {},
   "source": [
    "10. The code returns an error. You can only concatenate lists to lists, and line 3 attempts to concatenate an int to a list"
   ]
  },
  {
   "cell_type": "markdown",
   "metadata": {},
   "source": [
    "11. x1: integer\n",
    "    x2: float\n",
    "    x3: string\n",
    "    x4: list\n",
    "    x5: list"
   ]
  },
  {
   "cell_type": "markdown",
   "metadata": {},
   "source": [
    "12. type() returns the data type that is inside of the parenthesis\n",
    "    type(42) returns integer, this is a whole number with no decimal\n",
    "    type(42.0) returns float, this is a number with a decimal value attached to it\n",
    "    type('42.0') returns string, the apostrophes act like quotes and denote a string of characters\n",
    "    type(\"42.0\") returns string, the quotes denote a string of characters\n",
    "    type(\"\"\"42.0\"\"\") returns string, the triple quotes act as quotes but let the string span multiple lines\n",
    "    type([1,2]) returns list, the brackets signify the data within them are elements of a list, and those elements are seperated by commas\n",
    "    type([1]+[2]) returns list, the + concatenates the lists and creates a list that contains 1 and 2 as seperate elements\n",
    "    type(1 + 2) returns integer, both numbers have no decimals associated with them, so the addition of 2 integers results in an integer\n",
    "    type(print) returns builtin_function_or_method, the print command is a function in python"
   ]
  },
  {
   "cell_type": "markdown",
   "metadata": {},
   "source": [
    "13. The code returns float because the contents of the string '1234' are all numbers that can be converted into float or int. The code converts '1234' to an integer, then back to a string, then to a float, meaning type() will return float"
   ]
  },
  {
   "cell_type": "markdown",
   "metadata": {},
   "source": [
    "14. The code returns int because the string '12.34' contains all numbers that can be converted to float or int. The string '12.34' is converted to a float and then converted to an int, meaning type() will return int"
   ]
  },
  {
   "cell_type": "markdown",
   "metadata": {},
   "source": [
    "15. len([1234]) returns 1, length() returns the number of elements for lists and there is 1 element in the list \n",
    "    len(\"1234\") returns 4, length() returns the number of characters in the string, which is 4\n",
    "    len(1234) returns an error, length() cannot be applied to integers or floats"
   ]
  },
  {
   "cell_type": "markdown",
   "metadata": {},
   "source": [
    "16. x is a list with 0 length"
   ]
  },
  {
   "cell_type": "markdown",
   "metadata": {},
   "source": [
    "17. x.split() returns list: ['abcde']"
   ]
  },
  {
   "cell_type": "code",
   "execution_count": 1,
   "metadata": {},
   "outputs": [
    {
     "data": {
      "text/plain": [
       "1234.0"
      ]
     },
     "execution_count": 1,
     "metadata": {},
     "output_type": "execute_result"
    }
   ],
   "source": [
    "x = 1234\n",
    "float(x)"
   ]
  },
  {
   "cell_type": "code",
   "execution_count": 5,
   "metadata": {},
   "outputs": [
    {
     "data": {
      "text/plain": [
       "'1234'"
      ]
     },
     "execution_count": 5,
     "metadata": {},
     "output_type": "execute_result"
    }
   ],
   "source": [
    "x = 1234\n",
    "str(x)"
   ]
  },
  {
   "cell_type": "code",
   "execution_count": 9,
   "metadata": {},
   "outputs": [
    {
     "name": "stdout",
     "output_type": "stream",
     "text": [
      "['1', '2', '3', '4']\n"
     ]
    }
   ],
   "source": [
    "x = 1234\n",
    "a = []\n",
    "for i in str(x):\n",
    "    a.append(i)\n",
    "print(a)"
   ]
  },
  {
   "cell_type": "code",
   "execution_count": 15,
   "metadata": {},
   "outputs": [
    {
     "data": {
      "text/plain": [
       "'Luke, I Am Your Father'"
      ]
     },
     "execution_count": 15,
     "metadata": {},
     "output_type": "execute_result"
    }
   ],
   "source": [
    "x = 'luke, i am your father'\n",
    "x.title()"
   ]
  },
  {
   "cell_type": "code",
   "execution_count": 17,
   "metadata": {},
   "outputs": [
    {
     "data": {
      "text/plain": [
       "50"
      ]
     },
     "execution_count": 17,
     "metadata": {},
     "output_type": "execute_result"
    }
   ],
   "source": [
    "x = \"How many character and letters are in this string?\"\n",
    "len(x)"
   ]
  },
  {
   "cell_type": "code",
   "execution_count": 18,
   "metadata": {},
   "outputs": [
    {
     "name": "stdout",
     "output_type": "stream",
     "text": [
      "['H', 'o', 'w', ' ', 'm', 'a', 'n', 'y', ' ', 'c', 'h', 'a', 'r', 'a', 'c', 't', 'e', 'r', ' ', 'a', 'n', 'd', ' ', 'l', 'e', 't', 't', 'e', 'r', 's', ' ', 'a', 'r', 'e', ' ', 'i', 'n', ' ', 't', 'h', 'i', 's', ' ', 's', 't', 'r', 'i', 'n', 'g', '?']\n"
     ]
    }
   ],
   "source": [
    "a = []\n",
    "for i in x:\n",
    "    a.append(i)\n",
    "print(a)"
   ]
  },
  {
   "cell_type": "code",
   "execution_count": 21,
   "metadata": {},
   "outputs": [
    {
     "name": "stdout",
     "output_type": "stream",
     "text": [
      "['How', 'many', 'character', 'and', 'letters', 'are', 'in', 'this', 'string?']\n"
     ]
    }
   ],
   "source": [
    "b = x.split()\n",
    "print(b)"
   ]
  },
  {
   "cell_type": "code",
   "execution_count": 22,
   "metadata": {},
   "outputs": [
    {
     "data": {
      "text/plain": [
       "9"
      ]
     },
     "execution_count": 22,
     "metadata": {},
     "output_type": "execute_result"
    }
   ],
   "source": [
    "len(b)"
   ]
  },
  {
   "cell_type": "markdown",
   "metadata": {},
   "source": [
    "21. This assignment took me 45 minutes."
   ]
  }
 ],
 "metadata": {
  "kernelspec": {
   "display_name": "Python 3",
   "language": "python",
   "name": "python3"
  },
  "language_info": {
   "codemirror_mode": {
    "name": "ipython",
    "version": 3
   },
   "file_extension": ".py",
   "mimetype": "text/x-python",
   "name": "python",
   "nbconvert_exporter": "python",
   "pygments_lexer": "ipython3",
   "version": "3.6.5"
  }
 },
 "nbformat": 4,
 "nbformat_minor": 2
}
