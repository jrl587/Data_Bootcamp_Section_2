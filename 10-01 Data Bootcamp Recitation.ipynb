{
 "cells": [
  {
   "cell_type": "code",
   "execution_count": 1,
   "metadata": {},
   "outputs": [],
   "source": [
    "def square(x):\n",
    "    sq = x * x\n",
    "    return sq"
   ]
  },
  {
   "cell_type": "code",
   "execution_count": 3,
   "metadata": {},
   "outputs": [
    {
     "data": {
      "text/plain": [
       "4"
      ]
     },
     "execution_count": 3,
     "metadata": {},
     "output_type": "execute_result"
    }
   ],
   "source": [
    "square(2)"
   ]
  },
  {
   "cell_type": "code",
   "execution_count": 4,
   "metadata": {},
   "outputs": [
    {
     "name": "stdout",
     "output_type": "stream",
     "text": [
      "Wall time: 2.68 s\n"
     ]
    }
   ],
   "source": [
    "%%time \n",
    "list_forloop = []\n",
    "for i in range(10**7):\n",
    "    list_forloop.append(i)"
   ]
  },
  {
   "cell_type": "code",
   "execution_count": 5,
   "metadata": {},
   "outputs": [
    {
     "data": {
      "text/plain": [
       "[2, 5, 6]"
      ]
     },
     "execution_count": 5,
     "metadata": {},
     "output_type": "execute_result"
    }
   ],
   "source": [
    "py_list = [2,5,6]\n",
    "py_list"
   ]
  },
  {
   "cell_type": "code",
   "execution_count": 15,
   "metadata": {},
   "outputs": [],
   "source": [
    "import numpy as np\n",
    "np_list = np.array(py_list)"
   ]
  },
  {
   "cell_type": "code",
   "execution_count": 16,
   "metadata": {},
   "outputs": [
    {
     "data": {
      "text/plain": [
       "array([ 4,  7, 10])"
      ]
     },
     "execution_count": 16,
     "metadata": {},
     "output_type": "execute_result"
    }
   ],
   "source": [
    "2+ np_list"
   ]
  },
  {
   "cell_type": "code",
   "execution_count": 29,
   "metadata": {},
   "outputs": [
    {
     "data": {
      "text/plain": [
       "array([[[[ 1,  9],\n",
       "         [ 1, 10],\n",
       "         [ 5,  2]],\n",
       "\n",
       "        [[ 7,  6],\n",
       "         [ 3,  8],\n",
       "         [ 9,  0]],\n",
       "\n",
       "        [[ 5,  4],\n",
       "         [ 4,  5],\n",
       "         [ 9,  1]]],\n",
       "\n",
       "\n",
       "       [[[ 9,  9],\n",
       "         [ 9,  7],\n",
       "         [ 2,  7]],\n",
       "\n",
       "        [[ 8,  6],\n",
       "         [ 6,  2],\n",
       "         [ 1,  0]],\n",
       "\n",
       "        [[10, 10],\n",
       "         [ 2,  5],\n",
       "         [ 0,  5]]],\n",
       "\n",
       "\n",
       "       [[[ 4,  2],\n",
       "         [ 7,  7],\n",
       "         [10,  4]],\n",
       "\n",
       "        [[10,  7],\n",
       "         [ 0,  8],\n",
       "         [10,  2]],\n",
       "\n",
       "        [[ 3,  2],\n",
       "         [ 3,  8],\n",
       "         [10, 10]]]])"
      ]
     },
     "execution_count": 29,
     "metadata": {},
     "output_type": "execute_result"
    }
   ],
   "source": [
    "a = np.random.randint(0,11,(3,3,3,2))\n",
    "a"
   ]
  },
  {
   "cell_type": "code",
   "execution_count": 28,
   "metadata": {},
   "outputs": [
    {
     "data": {
      "text/plain": [
       "3"
      ]
     },
     "execution_count": 28,
     "metadata": {},
     "output_type": "execute_result"
    }
   ],
   "source": [
    "a.ndim"
   ]
  },
  {
   "cell_type": "code",
   "execution_count": null,
   "metadata": {},
   "outputs": [],
   "source": []
  }
 ],
 "metadata": {
  "kernelspec": {
   "display_name": "Python 3",
   "language": "python",
   "name": "python3"
  },
  "language_info": {
   "codemirror_mode": {
    "name": "ipython",
    "version": 3
   },
   "file_extension": ".py",
   "mimetype": "text/x-python",
   "name": "python",
   "nbconvert_exporter": "python",
   "pygments_lexer": "ipython3",
   "version": "3.6.5"
  }
 },
 "nbformat": 4,
 "nbformat_minor": 2
}
